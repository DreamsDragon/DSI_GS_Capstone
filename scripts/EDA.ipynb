{
 "cells": [
  {
   "cell_type": "code",
   "execution_count": 1,
   "id": "6cba578f",
   "metadata": {},
   "outputs": [],
   "source": [
    "#Downgrade Pandas to 1.2.4\n",
    "import numpy as np\n",
    "import pandas as pd\n",
    "from pandas_profiling import ProfileReport"
   ]
  },
  {
   "cell_type": "markdown",
   "id": "26a7a576",
   "metadata": {},
   "source": [
    "## VAERS Data"
   ]
  },
  {
   "cell_type": "code",
   "execution_count": 3,
   "id": "7b8b178d",
   "metadata": {},
   "outputs": [],
   "source": [
    "vaers_vax = pd.read_csv('/Users/architmatta/Documents/Columbia/Fall 2021/Capstone/Data/AllVAERSDataCSVS/2021VAERSVAX.csv', low_memory = False)\n",
    "vaers_symptoms = pd.read_csv('/Users/architmatta/Documents/Columbia/Fall 2021/Capstone/Data/AllVAERSDataCSVS/2021VAERSSYMPTOMS.csv', low_memory = False)\n",
    "vaers_data = pd.read_csv('/Users/architmatta/Documents/Columbia/Fall 2021/Capstone/Data/AllVAERSDataCSVS/2021VAERSDATA.csv', low_memory = False)"
   ]
  },
  {
   "cell_type": "code",
   "execution_count": 7,
   "id": "6c97b9fd",
   "metadata": {},
   "outputs": [
    {
     "name": "stdout",
     "output_type": "stream",
     "text": [
      "(594082, 8)\n"
     ]
    },
    {
     "data": {
      "text/html": [
       "<div>\n",
       "<style scoped>\n",
       "    .dataframe tbody tr th:only-of-type {\n",
       "        vertical-align: middle;\n",
       "    }\n",
       "\n",
       "    .dataframe tbody tr th {\n",
       "        vertical-align: top;\n",
       "    }\n",
       "\n",
       "    .dataframe thead th {\n",
       "        text-align: right;\n",
       "    }\n",
       "</style>\n",
       "<table border=\"1\" class=\"dataframe\">\n",
       "  <thead>\n",
       "    <tr style=\"text-align: right;\">\n",
       "      <th></th>\n",
       "      <th>VAERS_ID</th>\n",
       "      <th>VAX_TYPE</th>\n",
       "      <th>VAX_MANU</th>\n",
       "      <th>VAX_LOT</th>\n",
       "      <th>VAX_DOSE_SERIES</th>\n",
       "      <th>VAX_ROUTE</th>\n",
       "      <th>VAX_SITE</th>\n",
       "      <th>VAX_NAME</th>\n",
       "    </tr>\n",
       "  </thead>\n",
       "  <tbody>\n",
       "    <tr>\n",
       "      <th>0</th>\n",
       "      <td>916600</td>\n",
       "      <td>COVID19</td>\n",
       "      <td>MODERNA</td>\n",
       "      <td>037K20A</td>\n",
       "      <td>1</td>\n",
       "      <td>IM</td>\n",
       "      <td>LA</td>\n",
       "      <td>COVID19 (COVID19 (MODERNA))</td>\n",
       "    </tr>\n",
       "    <tr>\n",
       "      <th>1</th>\n",
       "      <td>916601</td>\n",
       "      <td>COVID19</td>\n",
       "      <td>MODERNA</td>\n",
       "      <td>025L20A</td>\n",
       "      <td>1</td>\n",
       "      <td>IM</td>\n",
       "      <td>RA</td>\n",
       "      <td>COVID19 (COVID19 (MODERNA))</td>\n",
       "    </tr>\n",
       "    <tr>\n",
       "      <th>2</th>\n",
       "      <td>916602</td>\n",
       "      <td>COVID19</td>\n",
       "      <td>PFIZER\\BIONTECH</td>\n",
       "      <td>EL1284</td>\n",
       "      <td>1</td>\n",
       "      <td>IM</td>\n",
       "      <td>LA</td>\n",
       "      <td>COVID19 (COVID19 (PFIZER-BIONTECH))</td>\n",
       "    </tr>\n",
       "    <tr>\n",
       "      <th>3</th>\n",
       "      <td>916603</td>\n",
       "      <td>COVID19</td>\n",
       "      <td>MODERNA</td>\n",
       "      <td>unknown</td>\n",
       "      <td>UNK</td>\n",
       "      <td>NaN</td>\n",
       "      <td>NaN</td>\n",
       "      <td>COVID19 (COVID19 (MODERNA))</td>\n",
       "    </tr>\n",
       "    <tr>\n",
       "      <th>4</th>\n",
       "      <td>916604</td>\n",
       "      <td>COVID19</td>\n",
       "      <td>MODERNA</td>\n",
       "      <td>NaN</td>\n",
       "      <td>1</td>\n",
       "      <td>IM</td>\n",
       "      <td>LA</td>\n",
       "      <td>COVID19 (COVID19 (MODERNA))</td>\n",
       "    </tr>\n",
       "  </tbody>\n",
       "</table>\n",
       "</div>"
      ],
      "text/plain": [
       "   VAERS_ID VAX_TYPE         VAX_MANU  VAX_LOT VAX_DOSE_SERIES VAX_ROUTE  \\\n",
       "0    916600  COVID19          MODERNA  037K20A               1        IM   \n",
       "1    916601  COVID19          MODERNA  025L20A               1        IM   \n",
       "2    916602  COVID19  PFIZER\\BIONTECH   EL1284               1        IM   \n",
       "3    916603  COVID19          MODERNA  unknown             UNK       NaN   \n",
       "4    916604  COVID19          MODERNA      NaN               1        IM   \n",
       "\n",
       "  VAX_SITE                             VAX_NAME  \n",
       "0       LA          COVID19 (COVID19 (MODERNA))  \n",
       "1       RA          COVID19 (COVID19 (MODERNA))  \n",
       "2       LA  COVID19 (COVID19 (PFIZER-BIONTECH))  \n",
       "3      NaN          COVID19 (COVID19 (MODERNA))  \n",
       "4       LA          COVID19 (COVID19 (MODERNA))  "
      ]
     },
     "execution_count": 7,
     "metadata": {},
     "output_type": "execute_result"
    }
   ],
   "source": [
    "print(vaers_vax.shape)\n",
    "vaers_vax.head()"
   ]
  },
  {
   "cell_type": "code",
   "execution_count": 8,
   "id": "12155810",
   "metadata": {},
   "outputs": [
    {
     "name": "stdout",
     "output_type": "stream",
     "text": [
      "(759941, 11)\n"
     ]
    },
    {
     "data": {
      "text/html": [
       "<div>\n",
       "<style scoped>\n",
       "    .dataframe tbody tr th:only-of-type {\n",
       "        vertical-align: middle;\n",
       "    }\n",
       "\n",
       "    .dataframe tbody tr th {\n",
       "        vertical-align: top;\n",
       "    }\n",
       "\n",
       "    .dataframe thead th {\n",
       "        text-align: right;\n",
       "    }\n",
       "</style>\n",
       "<table border=\"1\" class=\"dataframe\">\n",
       "  <thead>\n",
       "    <tr style=\"text-align: right;\">\n",
       "      <th></th>\n",
       "      <th>VAERS_ID</th>\n",
       "      <th>SYMPTOM1</th>\n",
       "      <th>SYMPTOMVERSION1</th>\n",
       "      <th>SYMPTOM2</th>\n",
       "      <th>SYMPTOMVERSION2</th>\n",
       "      <th>SYMPTOM3</th>\n",
       "      <th>SYMPTOMVERSION3</th>\n",
       "      <th>SYMPTOM4</th>\n",
       "      <th>SYMPTOMVERSION4</th>\n",
       "      <th>SYMPTOM5</th>\n",
       "      <th>SYMPTOMVERSION5</th>\n",
       "    </tr>\n",
       "  </thead>\n",
       "  <tbody>\n",
       "    <tr>\n",
       "      <th>0</th>\n",
       "      <td>916600</td>\n",
       "      <td>Dysphagia</td>\n",
       "      <td>23.1</td>\n",
       "      <td>Epiglottitis</td>\n",
       "      <td>23.1</td>\n",
       "      <td>NaN</td>\n",
       "      <td>NaN</td>\n",
       "      <td>NaN</td>\n",
       "      <td>NaN</td>\n",
       "      <td>NaN</td>\n",
       "      <td>NaN</td>\n",
       "    </tr>\n",
       "    <tr>\n",
       "      <th>1</th>\n",
       "      <td>916601</td>\n",
       "      <td>Anxiety</td>\n",
       "      <td>23.1</td>\n",
       "      <td>Dyspnoea</td>\n",
       "      <td>23.1</td>\n",
       "      <td>NaN</td>\n",
       "      <td>NaN</td>\n",
       "      <td>NaN</td>\n",
       "      <td>NaN</td>\n",
       "      <td>NaN</td>\n",
       "      <td>NaN</td>\n",
       "    </tr>\n",
       "    <tr>\n",
       "      <th>2</th>\n",
       "      <td>916602</td>\n",
       "      <td>Chest discomfort</td>\n",
       "      <td>23.1</td>\n",
       "      <td>Dysphagia</td>\n",
       "      <td>23.1</td>\n",
       "      <td>Pain in extremity</td>\n",
       "      <td>23.1</td>\n",
       "      <td>Visual impairment</td>\n",
       "      <td>23.1</td>\n",
       "      <td>NaN</td>\n",
       "      <td>NaN</td>\n",
       "    </tr>\n",
       "    <tr>\n",
       "      <th>3</th>\n",
       "      <td>916603</td>\n",
       "      <td>Dizziness</td>\n",
       "      <td>23.1</td>\n",
       "      <td>Fatigue</td>\n",
       "      <td>23.1</td>\n",
       "      <td>Mobility decreased</td>\n",
       "      <td>23.1</td>\n",
       "      <td>NaN</td>\n",
       "      <td>NaN</td>\n",
       "      <td>NaN</td>\n",
       "      <td>NaN</td>\n",
       "    </tr>\n",
       "    <tr>\n",
       "      <th>4</th>\n",
       "      <td>916604</td>\n",
       "      <td>Injection site erythema</td>\n",
       "      <td>23.1</td>\n",
       "      <td>Injection site pruritus</td>\n",
       "      <td>23.1</td>\n",
       "      <td>Injection site swelling</td>\n",
       "      <td>23.1</td>\n",
       "      <td>Injection site warmth</td>\n",
       "      <td>23.1</td>\n",
       "      <td>NaN</td>\n",
       "      <td>NaN</td>\n",
       "    </tr>\n",
       "  </tbody>\n",
       "</table>\n",
       "</div>"
      ],
      "text/plain": [
       "   VAERS_ID                 SYMPTOM1  SYMPTOMVERSION1  \\\n",
       "0    916600                Dysphagia             23.1   \n",
       "1    916601                  Anxiety             23.1   \n",
       "2    916602         Chest discomfort             23.1   \n",
       "3    916603                Dizziness             23.1   \n",
       "4    916604  Injection site erythema             23.1   \n",
       "\n",
       "                  SYMPTOM2  SYMPTOMVERSION2                 SYMPTOM3  \\\n",
       "0             Epiglottitis             23.1                      NaN   \n",
       "1                 Dyspnoea             23.1                      NaN   \n",
       "2                Dysphagia             23.1        Pain in extremity   \n",
       "3                  Fatigue             23.1       Mobility decreased   \n",
       "4  Injection site pruritus             23.1  Injection site swelling   \n",
       "\n",
       "   SYMPTOMVERSION3               SYMPTOM4  SYMPTOMVERSION4 SYMPTOM5  \\\n",
       "0              NaN                    NaN              NaN      NaN   \n",
       "1              NaN                    NaN              NaN      NaN   \n",
       "2             23.1      Visual impairment             23.1      NaN   \n",
       "3             23.1                    NaN              NaN      NaN   \n",
       "4             23.1  Injection site warmth             23.1      NaN   \n",
       "\n",
       "   SYMPTOMVERSION5  \n",
       "0              NaN  \n",
       "1              NaN  \n",
       "2              NaN  \n",
       "3              NaN  \n",
       "4              NaN  "
      ]
     },
     "execution_count": 8,
     "metadata": {},
     "output_type": "execute_result"
    }
   ],
   "source": [
    "print(vaers_symptoms.shape)\n",
    "vaers_symptoms.head()"
   ]
  },
  {
   "cell_type": "code",
   "execution_count": 9,
   "id": "88c3a815",
   "metadata": {},
   "outputs": [
    {
     "name": "stdout",
     "output_type": "stream",
     "text": [
      "(569501, 35)\n"
     ]
    },
    {
     "data": {
      "text/html": [
       "<div>\n",
       "<style scoped>\n",
       "    .dataframe tbody tr th:only-of-type {\n",
       "        vertical-align: middle;\n",
       "    }\n",
       "\n",
       "    .dataframe tbody tr th {\n",
       "        vertical-align: top;\n",
       "    }\n",
       "\n",
       "    .dataframe thead th {\n",
       "        text-align: right;\n",
       "    }\n",
       "</style>\n",
       "<table border=\"1\" class=\"dataframe\">\n",
       "  <thead>\n",
       "    <tr style=\"text-align: right;\">\n",
       "      <th></th>\n",
       "      <th>VAERS_ID</th>\n",
       "      <th>RECVDATE</th>\n",
       "      <th>STATE</th>\n",
       "      <th>AGE_YRS</th>\n",
       "      <th>CAGE_YR</th>\n",
       "      <th>CAGE_MO</th>\n",
       "      <th>SEX</th>\n",
       "      <th>RPT_DATE</th>\n",
       "      <th>SYMPTOM_TEXT</th>\n",
       "      <th>DIED</th>\n",
       "      <th>...</th>\n",
       "      <th>CUR_ILL</th>\n",
       "      <th>HISTORY</th>\n",
       "      <th>PRIOR_VAX</th>\n",
       "      <th>SPLTTYPE</th>\n",
       "      <th>FORM_VERS</th>\n",
       "      <th>TODAYS_DATE</th>\n",
       "      <th>BIRTH_DEFECT</th>\n",
       "      <th>OFC_VISIT</th>\n",
       "      <th>ER_ED_VISIT</th>\n",
       "      <th>ALLERGIES</th>\n",
       "    </tr>\n",
       "  </thead>\n",
       "  <tbody>\n",
       "    <tr>\n",
       "      <th>0</th>\n",
       "      <td>916600</td>\n",
       "      <td>01/01/2021</td>\n",
       "      <td>TX</td>\n",
       "      <td>33.0</td>\n",
       "      <td>33.0</td>\n",
       "      <td>NaN</td>\n",
       "      <td>F</td>\n",
       "      <td>NaN</td>\n",
       "      <td>Right side of epiglottis swelled up and hinder...</td>\n",
       "      <td>NaN</td>\n",
       "      <td>...</td>\n",
       "      <td>None</td>\n",
       "      <td>None</td>\n",
       "      <td>NaN</td>\n",
       "      <td>NaN</td>\n",
       "      <td>2</td>\n",
       "      <td>01/01/2021</td>\n",
       "      <td>NaN</td>\n",
       "      <td>Y</td>\n",
       "      <td>NaN</td>\n",
       "      <td>Pcn and bee venom</td>\n",
       "    </tr>\n",
       "    <tr>\n",
       "      <th>1</th>\n",
       "      <td>916601</td>\n",
       "      <td>01/01/2021</td>\n",
       "      <td>CA</td>\n",
       "      <td>73.0</td>\n",
       "      <td>73.0</td>\n",
       "      <td>NaN</td>\n",
       "      <td>F</td>\n",
       "      <td>NaN</td>\n",
       "      <td>Approximately 30 min post vaccination administ...</td>\n",
       "      <td>NaN</td>\n",
       "      <td>...</td>\n",
       "      <td>Patient residing at nursing facility. See pati...</td>\n",
       "      <td>Patient residing at nursing facility. See pati...</td>\n",
       "      <td>NaN</td>\n",
       "      <td>NaN</td>\n",
       "      <td>2</td>\n",
       "      <td>01/01/2021</td>\n",
       "      <td>NaN</td>\n",
       "      <td>Y</td>\n",
       "      <td>NaN</td>\n",
       "      <td>\"Dairy\"</td>\n",
       "    </tr>\n",
       "    <tr>\n",
       "      <th>2</th>\n",
       "      <td>916602</td>\n",
       "      <td>01/01/2021</td>\n",
       "      <td>WA</td>\n",
       "      <td>23.0</td>\n",
       "      <td>23.0</td>\n",
       "      <td>NaN</td>\n",
       "      <td>F</td>\n",
       "      <td>NaN</td>\n",
       "      <td>About 15 minutes after receiving the vaccine, ...</td>\n",
       "      <td>NaN</td>\n",
       "      <td>...</td>\n",
       "      <td>None</td>\n",
       "      <td>None</td>\n",
       "      <td>NaN</td>\n",
       "      <td>NaN</td>\n",
       "      <td>2</td>\n",
       "      <td>01/01/2021</td>\n",
       "      <td>NaN</td>\n",
       "      <td>NaN</td>\n",
       "      <td>Y</td>\n",
       "      <td>Shellfish</td>\n",
       "    </tr>\n",
       "    <tr>\n",
       "      <th>3</th>\n",
       "      <td>916603</td>\n",
       "      <td>01/01/2021</td>\n",
       "      <td>WA</td>\n",
       "      <td>58.0</td>\n",
       "      <td>58.0</td>\n",
       "      <td>NaN</td>\n",
       "      <td>F</td>\n",
       "      <td>NaN</td>\n",
       "      <td>extreme fatigue, dizziness,. could not lift my...</td>\n",
       "      <td>NaN</td>\n",
       "      <td>...</td>\n",
       "      <td>kidney infection</td>\n",
       "      <td>diverticulitis, mitral valve prolapse, osteoar...</td>\n",
       "      <td>got measles from measel shot, mums from mumps ...</td>\n",
       "      <td>NaN</td>\n",
       "      <td>2</td>\n",
       "      <td>01/01/2021</td>\n",
       "      <td>NaN</td>\n",
       "      <td>NaN</td>\n",
       "      <td>NaN</td>\n",
       "      <td>Diclofenac, novacaine, lidocaine, pickles, tom...</td>\n",
       "    </tr>\n",
       "    <tr>\n",
       "      <th>4</th>\n",
       "      <td>916604</td>\n",
       "      <td>01/01/2021</td>\n",
       "      <td>TX</td>\n",
       "      <td>47.0</td>\n",
       "      <td>47.0</td>\n",
       "      <td>NaN</td>\n",
       "      <td>F</td>\n",
       "      <td>NaN</td>\n",
       "      <td>Injection site swelling, redness, warm to the ...</td>\n",
       "      <td>NaN</td>\n",
       "      <td>...</td>\n",
       "      <td>Na</td>\n",
       "      <td>NaN</td>\n",
       "      <td>NaN</td>\n",
       "      <td>NaN</td>\n",
       "      <td>2</td>\n",
       "      <td>01/01/2021</td>\n",
       "      <td>NaN</td>\n",
       "      <td>NaN</td>\n",
       "      <td>NaN</td>\n",
       "      <td>Na</td>\n",
       "    </tr>\n",
       "  </tbody>\n",
       "</table>\n",
       "<p>5 rows × 35 columns</p>\n",
       "</div>"
      ],
      "text/plain": [
       "   VAERS_ID    RECVDATE STATE  AGE_YRS  CAGE_YR  CAGE_MO SEX RPT_DATE  \\\n",
       "0    916600  01/01/2021    TX     33.0     33.0      NaN   F      NaN   \n",
       "1    916601  01/01/2021    CA     73.0     73.0      NaN   F      NaN   \n",
       "2    916602  01/01/2021    WA     23.0     23.0      NaN   F      NaN   \n",
       "3    916603  01/01/2021    WA     58.0     58.0      NaN   F      NaN   \n",
       "4    916604  01/01/2021    TX     47.0     47.0      NaN   F      NaN   \n",
       "\n",
       "                                        SYMPTOM_TEXT DIED  ...  \\\n",
       "0  Right side of epiglottis swelled up and hinder...  NaN  ...   \n",
       "1  Approximately 30 min post vaccination administ...  NaN  ...   \n",
       "2  About 15 minutes after receiving the vaccine, ...  NaN  ...   \n",
       "3  extreme fatigue, dizziness,. could not lift my...  NaN  ...   \n",
       "4  Injection site swelling, redness, warm to the ...  NaN  ...   \n",
       "\n",
       "                                             CUR_ILL  \\\n",
       "0                                               None   \n",
       "1  Patient residing at nursing facility. See pati...   \n",
       "2                                               None   \n",
       "3                                   kidney infection   \n",
       "4                                                 Na   \n",
       "\n",
       "                                             HISTORY  \\\n",
       "0                                               None   \n",
       "1  Patient residing at nursing facility. See pati...   \n",
       "2                                               None   \n",
       "3  diverticulitis, mitral valve prolapse, osteoar...   \n",
       "4                                                NaN   \n",
       "\n",
       "                                           PRIOR_VAX SPLTTYPE  FORM_VERS  \\\n",
       "0                                                NaN      NaN          2   \n",
       "1                                                NaN      NaN          2   \n",
       "2                                                NaN      NaN          2   \n",
       "3  got measles from measel shot, mums from mumps ...      NaN          2   \n",
       "4                                                NaN      NaN          2   \n",
       "\n",
       "  TODAYS_DATE BIRTH_DEFECT OFC_VISIT ER_ED_VISIT  \\\n",
       "0  01/01/2021          NaN         Y         NaN   \n",
       "1  01/01/2021          NaN         Y         NaN   \n",
       "2  01/01/2021          NaN       NaN           Y   \n",
       "3  01/01/2021          NaN       NaN         NaN   \n",
       "4  01/01/2021          NaN       NaN         NaN   \n",
       "\n",
       "                                           ALLERGIES  \n",
       "0                                  Pcn and bee venom  \n",
       "1                                            \"Dairy\"  \n",
       "2                                          Shellfish  \n",
       "3  Diclofenac, novacaine, lidocaine, pickles, tom...  \n",
       "4                                                 Na  \n",
       "\n",
       "[5 rows x 35 columns]"
      ]
     },
     "execution_count": 9,
     "metadata": {},
     "output_type": "execute_result"
    }
   ],
   "source": [
    "print(vaers_data.shape)\n",
    "vaers_data.head()"
   ]
  },
  {
   "cell_type": "code",
   "execution_count": 10,
   "id": "cd5be588",
   "metadata": {},
   "outputs": [],
   "source": [
    "vaers_vax_profile = ProfileReport(vaers_vax, title = 'Pandas Profiling Report', explorative = True)\n",
    "vaers_symptoms_profile = ProfileReport(vaers_symptoms, title = 'Pandas Profiling Report', explorative = True)\n",
    "vaers_data_profile = ProfileReport(vaers_data, title = 'Pandas Profiling Report', explorative = True)"
   ]
  },
  {
   "cell_type": "code",
   "execution_count": 11,
   "id": "b45d0b81",
   "metadata": {},
   "outputs": [
    {
     "data": {
      "application/vnd.jupyter.widget-view+json": {
       "model_id": "b553dd0e28f44345879005907fbc7d99",
       "version_major": 2,
       "version_minor": 0
      },
      "text/plain": [
       "Summarize dataset:   0%|          | 0/22 [00:00<?, ?it/s]"
      ]
     },
     "metadata": {},
     "output_type": "display_data"
    },
    {
     "data": {
      "application/vnd.jupyter.widget-view+json": {
       "model_id": "5e18722e6a704c2684ff3b16f2c3b4ac",
       "version_major": 2,
       "version_minor": 0
      },
      "text/plain": [
       "Generate report structure:   0%|          | 0/1 [00:00<?, ?it/s]"
      ]
     },
     "metadata": {},
     "output_type": "display_data"
    },
    {
     "data": {
      "application/vnd.jupyter.widget-view+json": {
       "model_id": "a2de24004adc4eb1846da3ca6df55028",
       "version_major": 2,
       "version_minor": 0
      },
      "text/plain": [
       "Render HTML:   0%|          | 0/1 [00:00<?, ?it/s]"
      ]
     },
     "metadata": {},
     "output_type": "display_data"
    },
    {
     "data": {
      "application/vnd.jupyter.widget-view+json": {
       "model_id": "aaacf2c1bc3d42b28d70179f89fb5e8b",
       "version_major": 2,
       "version_minor": 0
      },
      "text/plain": [
       "Export report to file:   0%|          | 0/1 [00:00<?, ?it/s]"
      ]
     },
     "metadata": {},
     "output_type": "display_data"
    }
   ],
   "source": [
    "vaers_vax_profile.to_file('/Users/architmatta/Documents/Columbia/Fall 2021/Capstone/EDA/2021VAERSVAX.html')"
   ]
  },
  {
   "cell_type": "code",
   "execution_count": 12,
   "id": "91bc370d",
   "metadata": {},
   "outputs": [
    {
     "data": {
      "application/vnd.jupyter.widget-view+json": {
       "model_id": "88ff1835d9214014af6d130a0b02a6f8",
       "version_major": 2,
       "version_minor": 0
      },
      "text/plain": [
       "Summarize dataset:   0%|          | 0/25 [00:00<?, ?it/s]"
      ]
     },
     "metadata": {},
     "output_type": "display_data"
    },
    {
     "name": "stderr",
     "output_type": "stream",
     "text": [
      "/Users/architmatta/opt/anaconda3/envs/capstone/lib/python3.7/site-packages/scipy/stats/stats.py:4812: RuntimeWarning: overflow encountered in long_scalars\n",
      "  (2 * xtie * ytie) / m + x0 * y0 / (9 * m * (size - 2)))\n"
     ]
    },
    {
     "data": {
      "application/vnd.jupyter.widget-view+json": {
       "model_id": "28142d1807c5417c8b06cfe31355e507",
       "version_major": 2,
       "version_minor": 0
      },
      "text/plain": [
       "Generate report structure:   0%|          | 0/1 [00:00<?, ?it/s]"
      ]
     },
     "metadata": {},
     "output_type": "display_data"
    },
    {
     "data": {
      "application/vnd.jupyter.widget-view+json": {
       "model_id": "c105f0cb29174c73acca8342f33b904f",
       "version_major": 2,
       "version_minor": 0
      },
      "text/plain": [
       "Render HTML:   0%|          | 0/1 [00:00<?, ?it/s]"
      ]
     },
     "metadata": {},
     "output_type": "display_data"
    },
    {
     "data": {
      "application/vnd.jupyter.widget-view+json": {
       "model_id": "f9b4457031a3421f92b242a754f6c72d",
       "version_major": 2,
       "version_minor": 0
      },
      "text/plain": [
       "Export report to file:   0%|          | 0/1 [00:00<?, ?it/s]"
      ]
     },
     "metadata": {},
     "output_type": "display_data"
    }
   ],
   "source": [
    "vaers_symptoms_profile.to_file('/Users/architmatta/Documents/Columbia/Fall 2021/Capstone/EDA/2021VAERSSYMPTOMS.html')"
   ]
  },
  {
   "cell_type": "code",
   "execution_count": 13,
   "id": "b4cd7a4c",
   "metadata": {},
   "outputs": [
    {
     "data": {
      "application/vnd.jupyter.widget-view+json": {
       "model_id": "d376594c71fc4fe5822d111e12310c1a",
       "version_major": 2,
       "version_minor": 0
      },
      "text/plain": [
       "Summarize dataset:   0%|          | 0/49 [00:00<?, ?it/s]"
      ]
     },
     "metadata": {},
     "output_type": "display_data"
    },
    {
     "name": "stderr",
     "output_type": "stream",
     "text": [
      "/Users/architmatta/opt/anaconda3/envs/capstone/lib/python3.7/site-packages/scipy/stats/stats.py:4812: RuntimeWarning: overflow encountered in long_scalars\n",
      "  (2 * xtie * ytie) / m + x0 * y0 / (9 * m * (size - 2)))\n"
     ]
    },
    {
     "data": {
      "application/vnd.jupyter.widget-view+json": {
       "model_id": "e30b60ac0aa841b5bf0fd414a73260cc",
       "version_major": 2,
       "version_minor": 0
      },
      "text/plain": [
       "Generate report structure:   0%|          | 0/1 [00:00<?, ?it/s]"
      ]
     },
     "metadata": {},
     "output_type": "display_data"
    },
    {
     "data": {
      "application/vnd.jupyter.widget-view+json": {
       "model_id": "eadee4ffcc57422496a143e2362b8b0f",
       "version_major": 2,
       "version_minor": 0
      },
      "text/plain": [
       "Render HTML:   0%|          | 0/1 [00:00<?, ?it/s]"
      ]
     },
     "metadata": {},
     "output_type": "display_data"
    },
    {
     "data": {
      "application/vnd.jupyter.widget-view+json": {
       "model_id": "69c40300a40d4914a619a94bfbb9dac4",
       "version_major": 2,
       "version_minor": 0
      },
      "text/plain": [
       "Export report to file:   0%|          | 0/1 [00:00<?, ?it/s]"
      ]
     },
     "metadata": {},
     "output_type": "display_data"
    }
   ],
   "source": [
    "vaers_data_profile.to_file('/Users/architmatta/Documents/Columbia/Fall 2021/Capstone/EDA/2021VAERSDATA.html')"
   ]
  },
  {
   "cell_type": "markdown",
   "id": "0e0c95ff",
   "metadata": {},
   "source": [
    "## FAERS Data"
   ]
  },
  {
   "cell_type": "code",
   "execution_count": 14,
   "id": "cd28904d",
   "metadata": {},
   "outputs": [],
   "source": [
    "faers = pd.read_csv('/Users/architmatta/Documents/Columbia/Fall 2021/Capstone/Data/FAERS_2012Q4_2021Q1.csv', low_memory = False)"
   ]
  },
  {
   "cell_type": "code",
   "execution_count": 15,
   "id": "65b06063",
   "metadata": {},
   "outputs": [
    {
     "name": "stdout",
     "output_type": "stream",
     "text": [
      "(40584418, 22)\n"
     ]
    },
    {
     "data": {
      "text/html": [
       "<div>\n",
       "<style scoped>\n",
       "    .dataframe tbody tr th:only-of-type {\n",
       "        vertical-align: middle;\n",
       "    }\n",
       "\n",
       "    .dataframe tbody tr th {\n",
       "        vertical-align: top;\n",
       "    }\n",
       "\n",
       "    .dataframe thead th {\n",
       "        text-align: right;\n",
       "    }\n",
       "</style>\n",
       "<table border=\"1\" class=\"dataframe\">\n",
       "  <thead>\n",
       "    <tr style=\"text-align: right;\">\n",
       "      <th></th>\n",
       "      <th>primaryid</th>\n",
       "      <th>caseid</th>\n",
       "      <th>drug_seq</th>\n",
       "      <th>role_cod</th>\n",
       "      <th>drugname</th>\n",
       "      <th>val_vbm</th>\n",
       "      <th>route</th>\n",
       "      <th>dose_vbm</th>\n",
       "      <th>cum_dose_chr</th>\n",
       "      <th>cum_dose_unit</th>\n",
       "      <th>...</th>\n",
       "      <th>lot_nbr</th>\n",
       "      <th>exp_dt</th>\n",
       "      <th>nda_num</th>\n",
       "      <th>dose_amt</th>\n",
       "      <th>dose_unit</th>\n",
       "      <th>dose_form</th>\n",
       "      <th>dose_freq</th>\n",
       "      <th>origin</th>\n",
       "      <th>lot_num</th>\n",
       "      <th>prod_ai</th>\n",
       "    </tr>\n",
       "  </thead>\n",
       "  <tbody>\n",
       "    <tr>\n",
       "      <th>0</th>\n",
       "      <td>34483284</td>\n",
       "      <td>3448328</td>\n",
       "      <td>1</td>\n",
       "      <td>PS</td>\n",
       "      <td>SUSTIVA</td>\n",
       "      <td>1</td>\n",
       "      <td>TRANSPLACENTAL</td>\n",
       "      <td>UNK UNK</td>\n",
       "      <td>NaN</td>\n",
       "      <td>NaN</td>\n",
       "      <td>...</td>\n",
       "      <td>NaN</td>\n",
       "      <td>NaN</td>\n",
       "      <td>020972</td>\n",
       "      <td>NaN</td>\n",
       "      <td>NaN</td>\n",
       "      <td>NaN</td>\n",
       "      <td>NaN</td>\n",
       "      <td>drug12q4.txt</td>\n",
       "      <td>NaN</td>\n",
       "      <td>NaN</td>\n",
       "    </tr>\n",
       "    <tr>\n",
       "      <th>1</th>\n",
       "      <td>34483284</td>\n",
       "      <td>3448328</td>\n",
       "      <td>2</td>\n",
       "      <td>SS</td>\n",
       "      <td>NEVIRAPINE</td>\n",
       "      <td>1</td>\n",
       "      <td>TRANSPLACENTAL</td>\n",
       "      <td>NaN</td>\n",
       "      <td>NaN</td>\n",
       "      <td>NaN</td>\n",
       "      <td>...</td>\n",
       "      <td>NaN</td>\n",
       "      <td>NaN</td>\n",
       "      <td>NaN</td>\n",
       "      <td>NaN</td>\n",
       "      <td>NaN</td>\n",
       "      <td>NaN</td>\n",
       "      <td>NaN</td>\n",
       "      <td>drug12q4.txt</td>\n",
       "      <td>NaN</td>\n",
       "      <td>NaN</td>\n",
       "    </tr>\n",
       "    <tr>\n",
       "      <th>2</th>\n",
       "      <td>34483284</td>\n",
       "      <td>3448328</td>\n",
       "      <td>3</td>\n",
       "      <td>SS</td>\n",
       "      <td>VIRACEPT</td>\n",
       "      <td>1</td>\n",
       "      <td>TRANSPLACENTAL</td>\n",
       "      <td>UNK UNK</td>\n",
       "      <td>NaN</td>\n",
       "      <td>NaN</td>\n",
       "      <td>...</td>\n",
       "      <td>NaN</td>\n",
       "      <td>NaN</td>\n",
       "      <td>NaN</td>\n",
       "      <td>NaN</td>\n",
       "      <td>NaN</td>\n",
       "      <td>NaN</td>\n",
       "      <td>NaN</td>\n",
       "      <td>drug12q4.txt</td>\n",
       "      <td>NaN</td>\n",
       "      <td>NaN</td>\n",
       "    </tr>\n",
       "    <tr>\n",
       "      <th>3</th>\n",
       "      <td>34483284</td>\n",
       "      <td>3448328</td>\n",
       "      <td>4</td>\n",
       "      <td>SS</td>\n",
       "      <td>COMBIVIR</td>\n",
       "      <td>1</td>\n",
       "      <td>TRANSPLACENTAL</td>\n",
       "      <td>UNK UNK</td>\n",
       "      <td>NaN</td>\n",
       "      <td>NaN</td>\n",
       "      <td>...</td>\n",
       "      <td>NaN</td>\n",
       "      <td>NaN</td>\n",
       "      <td>NaN</td>\n",
       "      <td>NaN</td>\n",
       "      <td>NaN</td>\n",
       "      <td>NaN</td>\n",
       "      <td>NaN</td>\n",
       "      <td>drug12q4.txt</td>\n",
       "      <td>NaN</td>\n",
       "      <td>NaN</td>\n",
       "    </tr>\n",
       "    <tr>\n",
       "      <th>4</th>\n",
       "      <td>34483284</td>\n",
       "      <td>3448328</td>\n",
       "      <td>5</td>\n",
       "      <td>SS</td>\n",
       "      <td>RETROVIR</td>\n",
       "      <td>1</td>\n",
       "      <td>TRANSPLACENTAL</td>\n",
       "      <td>UNK UNK</td>\n",
       "      <td>NaN</td>\n",
       "      <td>NaN</td>\n",
       "      <td>...</td>\n",
       "      <td>NaN</td>\n",
       "      <td>NaN</td>\n",
       "      <td>NaN</td>\n",
       "      <td>NaN</td>\n",
       "      <td>NaN</td>\n",
       "      <td>NaN</td>\n",
       "      <td>NaN</td>\n",
       "      <td>drug12q4.txt</td>\n",
       "      <td>NaN</td>\n",
       "      <td>NaN</td>\n",
       "    </tr>\n",
       "  </tbody>\n",
       "</table>\n",
       "<p>5 rows × 22 columns</p>\n",
       "</div>"
      ],
      "text/plain": [
       "   primaryid   caseid  drug_seq role_cod    drugname  val_vbm           route  \\\n",
       "0   34483284  3448328         1       PS     SUSTIVA        1  TRANSPLACENTAL   \n",
       "1   34483284  3448328         2       SS  NEVIRAPINE        1  TRANSPLACENTAL   \n",
       "2   34483284  3448328         3       SS    VIRACEPT        1  TRANSPLACENTAL   \n",
       "3   34483284  3448328         4       SS    COMBIVIR        1  TRANSPLACENTAL   \n",
       "4   34483284  3448328         5       SS    RETROVIR        1  TRANSPLACENTAL   \n",
       "\n",
       "  dose_vbm  cum_dose_chr cum_dose_unit  ... lot_nbr exp_dt nda_num dose_amt  \\\n",
       "0  UNK UNK           NaN           NaN  ...     NaN    NaN  020972      NaN   \n",
       "1      NaN           NaN           NaN  ...     NaN    NaN     NaN      NaN   \n",
       "2  UNK UNK           NaN           NaN  ...     NaN    NaN     NaN      NaN   \n",
       "3  UNK UNK           NaN           NaN  ...     NaN    NaN     NaN      NaN   \n",
       "4  UNK UNK           NaN           NaN  ...     NaN    NaN     NaN      NaN   \n",
       "\n",
       "  dose_unit dose_form dose_freq        origin lot_num prod_ai  \n",
       "0       NaN       NaN       NaN  drug12q4.txt     NaN     NaN  \n",
       "1       NaN       NaN       NaN  drug12q4.txt     NaN     NaN  \n",
       "2       NaN       NaN       NaN  drug12q4.txt     NaN     NaN  \n",
       "3       NaN       NaN       NaN  drug12q4.txt     NaN     NaN  \n",
       "4       NaN       NaN       NaN  drug12q4.txt     NaN     NaN  \n",
       "\n",
       "[5 rows x 22 columns]"
      ]
     },
     "execution_count": 15,
     "metadata": {},
     "output_type": "execute_result"
    }
   ],
   "source": [
    "print(faers.shape)\n",
    "faers.head()"
   ]
  },
  {
   "cell_type": "code",
   "execution_count": 16,
   "id": "6c845414",
   "metadata": {},
   "outputs": [],
   "source": [
    "faers_profile = ProfileReport(faers, title = 'Pandas Profiling Report', explorative = False)"
   ]
  },
  {
   "cell_type": "code",
   "execution_count": 17,
   "id": "ecf112c9",
   "metadata": {},
   "outputs": [
    {
     "data": {
      "application/vnd.jupyter.widget-view+json": {
       "model_id": "d2036593cb944732b9755bca140e3011",
       "version_major": 2,
       "version_minor": 0
      },
      "text/plain": [
       "Summarize dataset:   0%|          | 0/36 [00:00<?, ?it/s]"
      ]
     },
     "metadata": {},
     "output_type": "display_data"
    },
    {
     "name": "stderr",
     "output_type": "stream",
     "text": [
      "/Users/architmatta/opt/anaconda3/envs/capstone/lib/python3.7/site-packages/scipy/stats/stats.py:4812: RuntimeWarning: overflow encountered in long_scalars\n",
      "  (2 * xtie * ytie) / m + x0 * y0 / (9 * m * (size - 2)))\n"
     ]
    },
    {
     "data": {
      "application/vnd.jupyter.widget-view+json": {
       "model_id": "7e17f70ebf5e42f1a4e78b7ab85b9f26",
       "version_major": 2,
       "version_minor": 0
      },
      "text/plain": [
       "Generate report structure:   0%|          | 0/1 [00:00<?, ?it/s]"
      ]
     },
     "metadata": {},
     "output_type": "display_data"
    },
    {
     "data": {
      "application/vnd.jupyter.widget-view+json": {
       "model_id": "4674b4cb32494bd784bda7dbab76b5b9",
       "version_major": 2,
       "version_minor": 0
      },
      "text/plain": [
       "Render HTML:   0%|          | 0/1 [00:00<?, ?it/s]"
      ]
     },
     "metadata": {},
     "output_type": "display_data"
    },
    {
     "data": {
      "application/vnd.jupyter.widget-view+json": {
       "model_id": "85263bd7405243079faeb9615a5730f6",
       "version_major": 2,
       "version_minor": 0
      },
      "text/plain": [
       "Export report to file:   0%|          | 0/1 [00:00<?, ?it/s]"
      ]
     },
     "metadata": {},
     "output_type": "display_data"
    }
   ],
   "source": [
    "faers_profile.to_file('/Users/architmatta/Documents/Columbia/Fall 2021/Capstone/EDA/FAERS_2012Q4_2021Q1.html')"
   ]
  }
 ],
 "metadata": {
  "kernelspec": {
   "display_name": "Python [conda env:capstone] *",
   "language": "python",
   "name": "conda-env-capstone-py"
  },
  "language_info": {
   "codemirror_mode": {
    "name": "ipython",
    "version": 3
   },
   "file_extension": ".py",
   "mimetype": "text/x-python",
   "name": "python",
   "nbconvert_exporter": "python",
   "pygments_lexer": "ipython3",
   "version": "3.7.11"
  }
 },
 "nbformat": 4,
 "nbformat_minor": 5
}
