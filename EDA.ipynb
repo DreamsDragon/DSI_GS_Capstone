{
 "cells": [
  {
   "cell_type": "code",
   "execution_count": 1,
   "id": "6cba578f",
   "metadata": {},
   "outputs": [],
   "source": [
    "#Downgrade Pandas to 1.2.4\n",
    "import numpy as np\n",
    "import pandas as pd\n",
    "from pandas_profiling import ProfileReport"
   ]
  },
  {
   "cell_type": "code",
   "execution_count": 6,
   "id": "7b8b178d",
   "metadata": {},
   "outputs": [],
   "source": [
    "df = pd.read_csv('/Users/architmatta/Documents/Columbia/Fall 2021/Capstone/Data/FAERS_2012Q4_2021Q1.csv', low_memory = False)"
   ]
  },
  {
   "cell_type": "code",
   "execution_count": 7,
   "id": "6c97b9fd",
   "metadata": {},
   "outputs": [
    {
     "data": {
      "text/html": [
       "<div>\n",
       "<style scoped>\n",
       "    .dataframe tbody tr th:only-of-type {\n",
       "        vertical-align: middle;\n",
       "    }\n",
       "\n",
       "    .dataframe tbody tr th {\n",
       "        vertical-align: top;\n",
       "    }\n",
       "\n",
       "    .dataframe thead th {\n",
       "        text-align: right;\n",
       "    }\n",
       "</style>\n",
       "<table border=\"1\" class=\"dataframe\">\n",
       "  <thead>\n",
       "    <tr style=\"text-align: right;\">\n",
       "      <th></th>\n",
       "      <th>primaryid</th>\n",
       "      <th>caseid</th>\n",
       "      <th>drug_seq</th>\n",
       "      <th>role_cod</th>\n",
       "      <th>drugname</th>\n",
       "      <th>val_vbm</th>\n",
       "      <th>route</th>\n",
       "      <th>dose_vbm</th>\n",
       "      <th>cum_dose_chr</th>\n",
       "      <th>cum_dose_unit</th>\n",
       "      <th>...</th>\n",
       "      <th>lot_nbr</th>\n",
       "      <th>exp_dt</th>\n",
       "      <th>nda_num</th>\n",
       "      <th>dose_amt</th>\n",
       "      <th>dose_unit</th>\n",
       "      <th>dose_form</th>\n",
       "      <th>dose_freq</th>\n",
       "      <th>origin</th>\n",
       "      <th>lot_num</th>\n",
       "      <th>prod_ai</th>\n",
       "    </tr>\n",
       "  </thead>\n",
       "  <tbody>\n",
       "    <tr>\n",
       "      <th>0</th>\n",
       "      <td>34483284</td>\n",
       "      <td>3448328</td>\n",
       "      <td>1</td>\n",
       "      <td>PS</td>\n",
       "      <td>SUSTIVA</td>\n",
       "      <td>1</td>\n",
       "      <td>TRANSPLACENTAL</td>\n",
       "      <td>UNK UNK</td>\n",
       "      <td>NaN</td>\n",
       "      <td>NaN</td>\n",
       "      <td>...</td>\n",
       "      <td>NaN</td>\n",
       "      <td>NaN</td>\n",
       "      <td>020972</td>\n",
       "      <td>NaN</td>\n",
       "      <td>NaN</td>\n",
       "      <td>NaN</td>\n",
       "      <td>NaN</td>\n",
       "      <td>drug12q4.txt</td>\n",
       "      <td>NaN</td>\n",
       "      <td>NaN</td>\n",
       "    </tr>\n",
       "    <tr>\n",
       "      <th>1</th>\n",
       "      <td>34483284</td>\n",
       "      <td>3448328</td>\n",
       "      <td>2</td>\n",
       "      <td>SS</td>\n",
       "      <td>NEVIRAPINE</td>\n",
       "      <td>1</td>\n",
       "      <td>TRANSPLACENTAL</td>\n",
       "      <td>NaN</td>\n",
       "      <td>NaN</td>\n",
       "      <td>NaN</td>\n",
       "      <td>...</td>\n",
       "      <td>NaN</td>\n",
       "      <td>NaN</td>\n",
       "      <td>NaN</td>\n",
       "      <td>NaN</td>\n",
       "      <td>NaN</td>\n",
       "      <td>NaN</td>\n",
       "      <td>NaN</td>\n",
       "      <td>drug12q4.txt</td>\n",
       "      <td>NaN</td>\n",
       "      <td>NaN</td>\n",
       "    </tr>\n",
       "    <tr>\n",
       "      <th>2</th>\n",
       "      <td>34483284</td>\n",
       "      <td>3448328</td>\n",
       "      <td>3</td>\n",
       "      <td>SS</td>\n",
       "      <td>VIRACEPT</td>\n",
       "      <td>1</td>\n",
       "      <td>TRANSPLACENTAL</td>\n",
       "      <td>UNK UNK</td>\n",
       "      <td>NaN</td>\n",
       "      <td>NaN</td>\n",
       "      <td>...</td>\n",
       "      <td>NaN</td>\n",
       "      <td>NaN</td>\n",
       "      <td>NaN</td>\n",
       "      <td>NaN</td>\n",
       "      <td>NaN</td>\n",
       "      <td>NaN</td>\n",
       "      <td>NaN</td>\n",
       "      <td>drug12q4.txt</td>\n",
       "      <td>NaN</td>\n",
       "      <td>NaN</td>\n",
       "    </tr>\n",
       "    <tr>\n",
       "      <th>3</th>\n",
       "      <td>34483284</td>\n",
       "      <td>3448328</td>\n",
       "      <td>4</td>\n",
       "      <td>SS</td>\n",
       "      <td>COMBIVIR</td>\n",
       "      <td>1</td>\n",
       "      <td>TRANSPLACENTAL</td>\n",
       "      <td>UNK UNK</td>\n",
       "      <td>NaN</td>\n",
       "      <td>NaN</td>\n",
       "      <td>...</td>\n",
       "      <td>NaN</td>\n",
       "      <td>NaN</td>\n",
       "      <td>NaN</td>\n",
       "      <td>NaN</td>\n",
       "      <td>NaN</td>\n",
       "      <td>NaN</td>\n",
       "      <td>NaN</td>\n",
       "      <td>drug12q4.txt</td>\n",
       "      <td>NaN</td>\n",
       "      <td>NaN</td>\n",
       "    </tr>\n",
       "    <tr>\n",
       "      <th>4</th>\n",
       "      <td>34483284</td>\n",
       "      <td>3448328</td>\n",
       "      <td>5</td>\n",
       "      <td>SS</td>\n",
       "      <td>RETROVIR</td>\n",
       "      <td>1</td>\n",
       "      <td>TRANSPLACENTAL</td>\n",
       "      <td>UNK UNK</td>\n",
       "      <td>NaN</td>\n",
       "      <td>NaN</td>\n",
       "      <td>...</td>\n",
       "      <td>NaN</td>\n",
       "      <td>NaN</td>\n",
       "      <td>NaN</td>\n",
       "      <td>NaN</td>\n",
       "      <td>NaN</td>\n",
       "      <td>NaN</td>\n",
       "      <td>NaN</td>\n",
       "      <td>drug12q4.txt</td>\n",
       "      <td>NaN</td>\n",
       "      <td>NaN</td>\n",
       "    </tr>\n",
       "  </tbody>\n",
       "</table>\n",
       "<p>5 rows × 22 columns</p>\n",
       "</div>"
      ],
      "text/plain": [
       "   primaryid   caseid  drug_seq role_cod    drugname  val_vbm           route  \\\n",
       "0   34483284  3448328         1       PS     SUSTIVA        1  TRANSPLACENTAL   \n",
       "1   34483284  3448328         2       SS  NEVIRAPINE        1  TRANSPLACENTAL   \n",
       "2   34483284  3448328         3       SS    VIRACEPT        1  TRANSPLACENTAL   \n",
       "3   34483284  3448328         4       SS    COMBIVIR        1  TRANSPLACENTAL   \n",
       "4   34483284  3448328         5       SS    RETROVIR        1  TRANSPLACENTAL   \n",
       "\n",
       "  dose_vbm  cum_dose_chr cum_dose_unit  ... lot_nbr exp_dt nda_num dose_amt  \\\n",
       "0  UNK UNK           NaN           NaN  ...     NaN    NaN  020972      NaN   \n",
       "1      NaN           NaN           NaN  ...     NaN    NaN     NaN      NaN   \n",
       "2  UNK UNK           NaN           NaN  ...     NaN    NaN     NaN      NaN   \n",
       "3  UNK UNK           NaN           NaN  ...     NaN    NaN     NaN      NaN   \n",
       "4  UNK UNK           NaN           NaN  ...     NaN    NaN     NaN      NaN   \n",
       "\n",
       "  dose_unit dose_form dose_freq        origin lot_num prod_ai  \n",
       "0       NaN       NaN       NaN  drug12q4.txt     NaN     NaN  \n",
       "1       NaN       NaN       NaN  drug12q4.txt     NaN     NaN  \n",
       "2       NaN       NaN       NaN  drug12q4.txt     NaN     NaN  \n",
       "3       NaN       NaN       NaN  drug12q4.txt     NaN     NaN  \n",
       "4       NaN       NaN       NaN  drug12q4.txt     NaN     NaN  \n",
       "\n",
       "[5 rows x 22 columns]"
      ]
     },
     "execution_count": 7,
     "metadata": {},
     "output_type": "execute_result"
    }
   ],
   "source": [
    "df.head()"
   ]
  },
  {
   "cell_type": "code",
   "execution_count": 8,
   "id": "12155810",
   "metadata": {},
   "outputs": [
    {
     "data": {
      "text/plain": [
       "(40584418, 22)"
      ]
     },
     "execution_count": 8,
     "metadata": {},
     "output_type": "execute_result"
    }
   ],
   "source": [
    "df.shape"
   ]
  },
  {
   "cell_type": "code",
   "execution_count": 9,
   "id": "d56e7c4c",
   "metadata": {},
   "outputs": [
    {
     "data": {
      "text/plain": [
       "primaryid          int64\n",
       "caseid             int64\n",
       "drug_seq           int64\n",
       "role_cod          object\n",
       "drugname          object\n",
       "val_vbm            int64\n",
       "route             object\n",
       "dose_vbm          object\n",
       "cum_dose_chr     float64\n",
       "cum_dose_unit     object\n",
       "dechal            object\n",
       "rechal            object\n",
       "lot_nbr           object\n",
       "exp_dt            object\n",
       "nda_num           object\n",
       "dose_amt          object\n",
       "dose_unit         object\n",
       "dose_form         object\n",
       "dose_freq         object\n",
       "origin            object\n",
       "lot_num           object\n",
       "prod_ai           object\n",
       "dtype: object"
      ]
     },
     "execution_count": 9,
     "metadata": {},
     "output_type": "execute_result"
    }
   ],
   "source": [
    "df.dtypes"
   ]
  },
  {
   "cell_type": "code",
   "execution_count": 10,
   "id": "cd5be588",
   "metadata": {},
   "outputs": [],
   "source": [
    "profile = ProfileReport(df, title = 'Pandas Profiling Report', explorative = True)"
   ]
  },
  {
   "cell_type": "code",
   "execution_count": null,
   "id": "b45d0b81",
   "metadata": {},
   "outputs": [
    {
     "data": {
      "application/vnd.jupyter.widget-view+json": {
       "model_id": "cbbeb4574a084c60ae97ffbb2e63bcc7",
       "version_major": 2,
       "version_minor": 0
      },
      "text/plain": [
       "Summarize dataset:   0%|          | 0/36 [00:00<?, ?it/s]"
      ]
     },
     "metadata": {},
     "output_type": "display_data"
    },
    {
     "name": "stderr",
     "output_type": "stream",
     "text": [
      "/Users/architmatta/opt/anaconda3/envs/capstone/lib/python3.7/site-packages/scipy/stats/stats.py:4812: RuntimeWarning: overflow encountered in long_scalars\n",
      "  (2 * xtie * ytie) / m + x0 * y0 / (9 * m * (size - 2)))\n"
     ]
    }
   ],
   "source": [
    "profile.to_file('/Users/architmatta/Documents/Columbia/Fall 2021/Capstone/EDA/FAERS_2012Q4_2021Q1.html')"
   ]
  }
 ],
 "metadata": {
  "kernelspec": {
   "display_name": "Python [conda env:capstone] *",
   "language": "python",
   "name": "conda-env-capstone-py"
  },
  "language_info": {
   "codemirror_mode": {
    "name": "ipython",
    "version": 3
   },
   "file_extension": ".py",
   "mimetype": "text/x-python",
   "name": "python",
   "nbconvert_exporter": "python",
   "pygments_lexer": "ipython3",
   "version": "3.7.11"
  }
 },
 "nbformat": 4,
 "nbformat_minor": 5
}
