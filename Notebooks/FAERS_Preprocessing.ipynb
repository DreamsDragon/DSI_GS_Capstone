{
 "cells": [
  {
   "cell_type": "code",
   "execution_count": 1,
   "id": "7fe52c73",
   "metadata": {},
   "outputs": [],
   "source": [
    "import numpy as np\n",
    "import pandas as pd\n",
    "from sklearn import preprocessing\n",
    "from sklearn.model_selection import train_test_split\n",
    "from sklearn.ensemble import RandomForestClassifier\n",
    "from sklearn.metrics import classification_report\n",
    "import xgboost as xgb\n",
    "from sklearn.tree import DecisionTreeClassifier\n",
    "import lightgbm as lgb\n",
    "from sklearn.preprocessing import MultiLabelBinarizer, OneHotEncoder, LabelEncoder\n",
    "from sklearn.model_selection import GridSearchCV\n",
    "import seaborn as sns\n",
    "sns.set_theme()\n",
    "import matplotlib.pyplot as plt\n",
    "from pandas_profiling import ProfileReport\n",
    "pd.set_option('display.max_columns', None)\n",
    "import seaborn as sns\n",
    "from sklearn.model_selection import train_test_split\n",
    "from sklearn.preprocessing import StandardScaler, OneHotEncoder\n",
    "from sklearn.compose import make_column_transformer\n",
    "from sklearn.linear_model import Ridge\n",
    "from sklearn.pipeline import make_pipeline\n",
    "from sklearn.model_selection import cross_val_score\n",
    "from sklearn.preprocessing import LabelEncoder\n",
    "from sklearn.pipeline import Pipeline\n",
    "from sklearn.impute import SimpleImputer\n",
    "from sklearn.compose import ColumnTransformer\n",
    "from sklearn.neighbors import KNeighborsClassifier\n",
    "from sklearn.model_selection import GridSearchCV\n",
    "from sklearn.model_selection import RandomizedSearchCV\n",
    "from sklearn.model_selection import RepeatedKFold\n",
    "from sklearn.model_selection import RepeatedStratifiedKFold\n",
    "from sklearn.metrics import f1_score\n",
    "from sklearn.decomposition import PCA\n",
    "from numpy import save"
   ]
  },
  {
   "cell_type": "code",
   "execution_count": 2,
   "id": "1c6ade91",
   "metadata": {},
   "outputs": [],
   "source": [
    "df = pd.read_csv('/Users/architmatta/Documents/Columbia/Fall 2021/Capstone/Data/full_data_inner.csv', low_memory = False)"
   ]
  },
  {
   "cell_type": "code",
   "execution_count": 3,
   "id": "73aa6e76",
   "metadata": {},
   "outputs": [],
   "source": [
    "df_subset = df[['utilization_type', 'state',\n",
    "       'package_size', 'year', 'quarter', 'suppression_used',\n",
    "       'units_reimbursed', 'Submission', 'Active Ingredients',\n",
    "       'Company', 'Submission Classification *', 'year_y',\n",
    "       'month', 'adverse_affects', 'NDA']]"
   ]
  },
  {
   "cell_type": "code",
   "execution_count": 4,
   "id": "6877439c",
   "metadata": {},
   "outputs": [],
   "source": [
    "df_subset.columns = ['utilization_type', 'state',\n",
    "       'package_size', 'year', 'quarter', 'suppression_used',\n",
    "       'units_reimbursed', 'submission', 'active_ingredients',\n",
    "       'company', 'submission_classification', 'approval_year',\n",
    "       'approval_month', 'adverse_affects', 'NDA']"
   ]
  },
  {
   "cell_type": "code",
   "execution_count": 5,
   "id": "9b203fb5",
   "metadata": {},
   "outputs": [
    {
     "data": {
      "text/plain": [
       "(3544366, 15)"
      ]
     },
     "execution_count": 5,
     "metadata": {},
     "output_type": "execute_result"
    }
   ],
   "source": [
    "df_subset.shape"
   ]
  },
  {
   "cell_type": "code",
   "execution_count": 6,
   "id": "a6148dbf",
   "metadata": {},
   "outputs": [],
   "source": [
    "df_subset = df_subset[df_subset['units_reimbursed'] >= df_subset['adverse_affects']]"
   ]
  },
  {
   "cell_type": "code",
   "execution_count": 7,
   "id": "05a28049",
   "metadata": {},
   "outputs": [
    {
     "data": {
      "text/plain": [
       "(1991148, 15)"
      ]
     },
     "execution_count": 7,
     "metadata": {},
     "output_type": "execute_result"
    }
   ],
   "source": [
    "df_subset.shape"
   ]
  },
  {
   "cell_type": "code",
   "execution_count": 11,
   "id": "6e1038e1",
   "metadata": {},
   "outputs": [
    {
     "data": {
      "text/plain": [
       "1553218"
      ]
     },
     "execution_count": 11,
     "metadata": {},
     "output_type": "execute_result"
    }
   ],
   "source": [
    "3544366-1991148"
   ]
  },
  {
   "cell_type": "code",
   "execution_count": 12,
   "id": "6979d67d",
   "metadata": {},
   "outputs": [],
   "source": [
    "df_subset['approval_quarter'] = df_subset['approval_month']//4 + 1"
   ]
  },
  {
   "cell_type": "code",
   "execution_count": 13,
   "id": "f4fcd29b",
   "metadata": {},
   "outputs": [],
   "source": [
    "df_subset = df_subset.dropna(subset=['approval_year', 'approval_month', 'approval_quarter'])"
   ]
  },
  {
   "cell_type": "code",
   "execution_count": 14,
   "id": "7df3ed65",
   "metadata": {},
   "outputs": [
    {
     "data": {
      "text/plain": [
       "(1991148, 16)"
      ]
     },
     "execution_count": 14,
     "metadata": {},
     "output_type": "execute_result"
    }
   ],
   "source": [
    "df_subset.shape"
   ]
  },
  {
   "cell_type": "code",
   "execution_count": 15,
   "id": "2e5c5749",
   "metadata": {},
   "outputs": [],
   "source": [
    "df_subset['time_since_approval'] = df_subset['year'] - df_subset['approval_year']\n",
    "df_subset = df_subset[df_subset['time_since_approval'] >= 0]\n",
    "df_subset['rate'] = df_subset['adverse_affects']/df_subset['units_reimbursed']"
   ]
  },
  {
   "cell_type": "code",
   "execution_count": 16,
   "id": "f6c9aeff",
   "metadata": {},
   "outputs": [
    {
     "data": {
      "text/plain": [
       "(1724320, 18)"
      ]
     },
     "execution_count": 16,
     "metadata": {},
     "output_type": "execute_result"
    }
   ],
   "source": [
    "df_subset.shape"
   ]
  },
  {
   "cell_type": "code",
   "execution_count": 17,
   "id": "d57a266d",
   "metadata": {},
   "outputs": [
    {
     "data": {
      "text/plain": [
       "266828"
      ]
     },
     "execution_count": 17,
     "metadata": {},
     "output_type": "execute_result"
    }
   ],
   "source": [
    "1991148-1724320"
   ]
  },
  {
   "cell_type": "code",
   "execution_count": 9,
   "id": "2f2fd3be",
   "metadata": {},
   "outputs": [
    {
     "data": {
      "text/html": [
       "<div>\n",
       "<style scoped>\n",
       "    .dataframe tbody tr th:only-of-type {\n",
       "        vertical-align: middle;\n",
       "    }\n",
       "\n",
       "    .dataframe tbody tr th {\n",
       "        vertical-align: top;\n",
       "    }\n",
       "\n",
       "    .dataframe thead th {\n",
       "        text-align: right;\n",
       "    }\n",
       "</style>\n",
       "<table border=\"1\" class=\"dataframe\">\n",
       "  <thead>\n",
       "    <tr style=\"text-align: right;\">\n",
       "      <th></th>\n",
       "      <th>time_since_approval</th>\n",
       "      <th>rate</th>\n",
       "    </tr>\n",
       "  </thead>\n",
       "  <tbody>\n",
       "    <tr>\n",
       "      <th>0</th>\n",
       "      <td>0</td>\n",
       "      <td>0.009237</td>\n",
       "    </tr>\n",
       "    <tr>\n",
       "      <th>1</th>\n",
       "      <td>1</td>\n",
       "      <td>0.007982</td>\n",
       "    </tr>\n",
       "    <tr>\n",
       "      <th>2</th>\n",
       "      <td>2</td>\n",
       "      <td>0.010345</td>\n",
       "    </tr>\n",
       "    <tr>\n",
       "      <th>3</th>\n",
       "      <td>3</td>\n",
       "      <td>0.010282</td>\n",
       "    </tr>\n",
       "    <tr>\n",
       "      <th>4</th>\n",
       "      <td>4</td>\n",
       "      <td>0.007692</td>\n",
       "    </tr>\n",
       "  </tbody>\n",
       "</table>\n",
       "</div>"
      ],
      "text/plain": [
       "   time_since_approval      rate\n",
       "0                    0  0.009237\n",
       "1                    1  0.007982\n",
       "2                    2  0.010345\n",
       "3                    3  0.010282\n",
       "4                    4  0.007692"
      ]
     },
     "execution_count": 9,
     "metadata": {},
     "output_type": "execute_result"
    }
   ],
   "source": [
    "df_subset_2 = df_subset.copy()\n",
    "#df_subset_2 = df_subset[df_subset['NDA'].isin(set((df_subset[['NDA']][df_subset['approval_year'] > 2015].values).ravel()))]\n",
    "df_plot = df_subset_2[['time_since_approval', 'rate']].groupby('time_since_approval').median('rate').reset_index()\n",
    "df_plot.head()"
   ]
  },
  {
   "cell_type": "code",
   "execution_count": 10,
   "id": "c32a5a1f",
   "metadata": {},
   "outputs": [
    {
     "data": {
      "image/png": "[encoded data removed]",
      "text/plain": [
       "<Figure size 1080x576 with 1 Axes>"
      ]
     },
     "metadata": {},
     "output_type": "display_data"
    }
   ],
   "source": [
    "sns.regplot(x = 'time_since_approval', y = 'rate', data = df_plot)\n",
    "plt.xticks(np.arange(0, 21, 5))\n",
    "plt.gcf().set_size_inches(15,8)\n",
    "plt.xlabel('Years since Approval');\n",
    "plt.ylabel('Rate of Adverse Affects')\n",
    "fig = plt.show();"
   ]
  },
  {
   "cell_type": "code",
   "execution_count": 11,
   "id": "00c22107",
   "metadata": {
    "scrolled": false
   },
   "outputs": [
    {
     "data": {
      "image/png": "[encoded data removed]",
      "text/plain": [
       "<Figure size 1152x504 with 1 Axes>"
      ]
     },
     "metadata": {},
     "output_type": "display_data"
    }
   ],
   "source": [
    "pd.DataFrame(df_subset['time_since_approval'].value_counts()).reset_index().sort_values(by = 'index').reset_index().drop(columns = ['level_0', 'index']).plot(kind = 'bar', figsize=(16,7));"
   ]
  },
  {
   "cell_type": "code",
   "execution_count": 12,
   "id": "cc07ef2f",
   "metadata": {},
   "outputs": [
    {
     "data": {
      "text/plain": [
       "4709"
      ]
     },
     "execution_count": 12,
     "metadata": {},
     "output_type": "execute_result"
    }
   ],
   "source": [
    "len(set(df_subset['NDA']))"
   ]
  },
  {
   "cell_type": "code",
   "execution_count": 13,
   "id": "8a6e8c63",
   "metadata": {},
   "outputs": [],
   "source": [
    "df_model = df_subset[['utilization_type', 'state', 'package_size',\n",
    "       'suppression_used', 'submission', 'approval_month',\n",
    "       'active_ingredients', 'company', 'submission_classification', 'time_since_approval', 'rate']]"
   ]
  },
  {
   "cell_type": "code",
   "execution_count": 14,
   "id": "f02f37de",
   "metadata": {},
   "outputs": [],
   "source": [
    "df = df_model.copy()"
   ]
  },
  {
   "cell_type": "code",
   "execution_count": 15,
   "id": "ab0c1b65",
   "metadata": {},
   "outputs": [],
   "source": [
    "out = []\n",
    "for i in df['active_ingredients'].ravel():\n",
    "    out+=i.split(\";\")\n",
    "out2 = []\n",
    "for i in out:\n",
    "    out2+=i.split(\",\")\n",
    "out3 = []\n",
    "for i in out2:\n",
    "    out3.append(i.strip())\n",
    "ingredients = set(out3)"
   ]
  },
  {
   "cell_type": "code",
   "execution_count": 16,
   "id": "4875bee6",
   "metadata": {},
   "outputs": [],
   "source": [
    "arr = np.zeros((df.shape[0], len(ingredients)))"
   ]
  },
  {
   "cell_type": "code",
   "execution_count": 17,
   "id": "b6c0737f",
   "metadata": {},
   "outputs": [],
   "source": [
    "for i, ingredient in enumerate(df['active_ingredients'].ravel()):\n",
    "    for j, label in enumerate(ingredients):\n",
    "        if label in ingredient:\n",
    "            arr[i, j] = 1"
   ]
  },
  {
   "cell_type": "code",
   "execution_count": 18,
   "id": "9ca61688",
   "metadata": {},
   "outputs": [],
   "source": [
    "categorical_cols = ['utilization_type', 'state', 'package_size', 'suppression_used', 'submission', 'company', 'submission_classification', 'time_since_approval']\n",
    "df_ohe = df[categorical_cols]\n",
    "df_ohe = df_ohe.apply(LabelEncoder().fit_transform)"
   ]
  },
  {
   "cell_type": "code",
   "execution_count": 38,
   "id": "baef126e",
   "metadata": {},
   "outputs": [],
   "source": [
    "X = np.hstack((arr, df_ohe.to_numpy(), df['approval_month'].to_numpy().reshape(-1, 1)))\n",
    "y = df['rate'].to_numpy()"
   ]
  },
  {
   "cell_type": "code",
   "execution_count": 65,
   "id": "29be7ecf",
   "metadata": {},
   "outputs": [],
   "source": [
    "columns = (list(ingredients) + list(df_ohe.columns) + ['approval_month'])"
   ]
  },
  {
   "cell_type": "code",
   "execution_count": 20,
   "id": "27758718",
   "metadata": {},
   "outputs": [
    {
     "data": {
      "text/plain": [
       "(1724320, 1440)"
      ]
     },
     "execution_count": 20,
     "metadata": {},
     "output_type": "execute_result"
    }
   ],
   "source": [
    "X.shape"
   ]
  },
  {
   "cell_type": "code",
   "execution_count": 21,
   "id": "bf8cdfc4",
   "metadata": {},
   "outputs": [],
   "source": [
    "pca = PCA(n_components = 100)\n",
    "pca.fit(X)\n",
    "X_reduced = pca.transform(X)"
   ]
  },
  {
   "cell_type": "code",
   "execution_count": 22,
   "id": "8761abd2",
   "metadata": {},
   "outputs": [
    {
     "data": {
      "image/png": "[encoded data removed]",
      "text/plain": [
       "<Figure size 1080x720 with 1 Axes>"
      ]
     },
     "metadata": {},
     "output_type": "display_data"
    }
   ],
   "source": [
    "df_temp = pd.DataFrame({'Number of Principal Components': [i for i in range (1,101)], 'Cumulative Percentage of Variance Explained': np.cumsum(pca.explained_variance_ratio_*100)})\n",
    "plt.gcf().set_size_inches((15, 10))\n",
    "sns.lineplot(data = df_temp, x = 'Number of Principal Components', y = 'Cumulative Percentage of Variance Explained');"
   ]
  },
  {
   "cell_type": "code",
   "execution_count": 34,
   "id": "66f119ce",
   "metadata": {},
   "outputs": [
    {
     "data": {
      "text/plain": [
       "array([93.76800314, 97.8914022 , 99.47479822, 99.87661825, 99.93381696,\n",
       "       99.98667312, 99.99664026, 99.9970845 , 99.99729358, 99.99747302,\n",
       "       99.99755675, 99.99763481, 99.99769118, 99.9977366 , 99.99777813,\n",
       "       99.99781592, 99.9978513 , 99.99788465, 99.99791716, 99.9979493 ,\n",
       "       99.99798069, 99.99801142, 99.9980411 , 99.99806997, 99.99809696,\n",
       "       99.99812338, 99.99814918, 99.99817309, 99.99819633, 99.99821773,\n",
       "       99.99823741, 99.99825682, 99.99827546, 99.99829364, 99.99831066,\n",
       "       99.99832753, 99.9983441 , 99.99836035, 99.99837648, 99.99839207,\n",
       "       99.9984075 , 99.99842286, 99.99843814, 99.99845312, 99.99846788,\n",
       "       99.99848261, 99.99849723, 99.9985118 , 99.99852577, 99.99853944,\n",
       "       99.99855306, 99.99856655, 99.99857989, 99.99859305, 99.99860592,\n",
       "       99.99861824, 99.9986302 , 99.99864206, 99.99865382, 99.99866529,\n",
       "       99.99867671, 99.99868809, 99.99869934, 99.99871046, 99.99872148,\n",
       "       99.99873247, 99.99874329, 99.99875398, 99.99876442, 99.99877477,\n",
       "       99.99878498, 99.99879495, 99.99880488, 99.99881458, 99.99882425,\n",
       "       99.99883381, 99.99884315, 99.99885241, 99.99886156, 99.99887064,\n",
       "       99.99887962, 99.99888844, 99.99889722, 99.99890588, 99.9989145 ,\n",
       "       99.99892304, 99.99893144, 99.99893973, 99.99894794, 99.99895614,\n",
       "       99.99896426, 99.99897227, 99.99898021, 99.99898801, 99.99899572,\n",
       "       99.99900332, 99.99901084, 99.99901829, 99.99902558, 99.99903283])"
      ]
     },
     "execution_count": 34,
     "metadata": {},
     "output_type": "execute_result"
    }
   ],
   "source": [
    "np.cumsum(pca.explained_variance_ratio_*100)"
   ]
  },
  {
   "cell_type": "code",
   "execution_count": 39,
   "id": "bcff3567",
   "metadata": {},
   "outputs": [],
   "source": [
    "X = X_reduced[:, :7]\n",
    "y = pd.qcut(y, 5, labels = False)"
   ]
  },
  {
   "cell_type": "code",
   "execution_count": 41,
   "id": "8cb99335",
   "metadata": {},
   "outputs": [],
   "source": [
    "save('X.npy', X)"
   ]
  },
  {
   "cell_type": "code",
   "execution_count": 42,
   "id": "92bc7c96",
   "metadata": {},
   "outputs": [],
   "source": [
    "save('y.npy', y)"
   ]
  },
  {
   "cell_type": "code",
   "execution_count": 52,
   "id": "2dd3c4dd",
   "metadata": {},
   "outputs": [],
   "source": [
    "save('PCA_Components.npy', pca.components_)"
   ]
  },
  {
   "cell_type": "code",
   "execution_count": 66,
   "id": "463b4b22",
   "metadata": {},
   "outputs": [],
   "source": [
    "save('Columns.npy', columns)"
   ]
  }
 ],
 "metadata": {
  "kernelspec": {
   "display_name": "Python [conda env:capstone] *",
   "language": "python",
   "name": "conda-env-capstone-py"
  },
  "language_info": {
   "codemirror_mode": {
    "name": "ipython",
    "version": 3
   },
   "file_extension": ".py",
   "mimetype": "text/x-python",
   "name": "python",
   "nbconvert_exporter": "python",
   "pygments_lexer": "ipython3",
   "version": "3.7.11"
  }
 },
 "nbformat": 4,
 "nbformat_minor": 5
}
